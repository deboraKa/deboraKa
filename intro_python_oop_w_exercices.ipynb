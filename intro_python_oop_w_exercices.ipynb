{
  "nbformat": 4,
  "nbformat_minor": 0,
  "metadata": {
    "colab": {
      "provenance": [],
      "include_colab_link": true
    },
    "kernelspec": {
      "name": "python3",
      "display_name": "Python 3"
    },
    "language_info": {
      "name": "python"
    }
  },
  "cells": [
    {
      "cell_type": "markdown",
      "metadata": {
        "id": "view-in-github",
        "colab_type": "text"
      },
      "source": [
        "<a href=\"https://colab.research.google.com/github/deboraKa/deboraKa/blob/main/intro_python_oop_w_exercices.ipynb\" target=\"_parent\"><img src=\"https://colab.research.google.com/assets/colab-badge.svg\" alt=\"Open In Colab\"/></a>"
      ]
    },
    {
      "cell_type": "markdown",
      "source": [
        "# POO & Python"
      ],
      "metadata": {
        "id": "GiJYHwf1p4-i"
      }
    },
    {
      "cell_type": "markdown",
      "source": [
        "- Vamos criar uma cópia desse colab na nossa máquina,\n",
        "- Vamos abrir esse cópia no VSCode dentro do WSL,\n",
        "- Vamos iterando o notebook, fazendo anotações e criando commits...\n"
      ],
      "metadata": {
        "id": "yaTH8-JZvQIl"
      }
    },
    {
      "cell_type": "markdown",
      "source": [
        "![](https://preview.redd.it/a-coincidence-surely-v0-0zoddf5k89da1.png?auto=webp&s=41f1e6006fea0c5b6ef710e27233642a3ed8f10d)"
      ],
      "metadata": {
        "id": "fz5sEPyfp75D"
      }
    },
    {
      "cell_type": "markdown",
      "source": [
        "# POO: Why?"
      ],
      "metadata": {
        "id": "tULQGBWlo-6g"
      }
    },
    {
      "cell_type": "markdown",
      "source": [
        "Programação Orientada a Objetos (OOP) é um paradigma de programação que usa 'objetos' - que são instâncias de 'classes' - para projetar aplicações e programas de computador. Cada objeto é uma entidade que possui um estado (representado por atributos ou propriedades) e comportamentos (representados por métodos ou funções). OOP é útil e amplamente usado devido a várias razões:\n",
        "\n",
        "- Modularidade: OOP permite que você divida seu software em partes menores (ou módulos) que podem ser desenvolvidas e testadas de forma independente. Isso torna o desenvolvimento e a manutenção do software mais gerenciáveis.\n",
        "- Reusabilidade: As classes podem ser reutilizadas em diferentes partes do software, ou até mesmo em diferentes softwares. Isso economiza tempo e esforço de desenvolvimento.\n",
        "- Manutenção: Como o OOP é modular e reutilizável, é mais fácil de manter. Mudanças em uma parte do software têm menos chances de afetar outras partes.\n",
        "- Abstração: O OOP permite que você esconda detalhes de implementação complexos atrás de uma interface simples. Isso torna o software mais fácil de usar e entender.\""
      ],
      "metadata": {
        "id": "dYErDPokpJYi"
      }
    },
    {
      "cell_type": "markdown",
      "source": [
        "# POO: Comparisons"
      ],
      "metadata": {
        "id": "OdWVSAZmpbeV"
      }
    },
    {
      "cell_type": "markdown",
      "source": [
        "A programação orientada a objetos é apenas um dos muitos paradigmas de programação. Outros exemplos notáveis incluem a programação procedural e a programação funcional.\n",
        "- **Programação Procedural**: Este paradigma de programação é centrado em procedimentos ou funções, e dados são passados de uma função para outra. Em contraste, no OOP, dados e funções são agrupados.\n",
        "- **Programação Funcional**: Este paradigma evita mudar o estado e dados mutáveis. Em contraste, OOP agrupa estado (dados) e comportamento e permite a mutação do estado.\n",
        "\n",
        "Cada paradigma tem seus próprios usos e vantagens, e muitas linguagens modernas, incluindo Python, permitem que você use uma mistura de paradigmas. A escolha do paradigma depende de vários fatores, incluindo o problema que você está tentando resolver, a arquitetura do sistema, as preferências da equipe e outros."
      ],
      "metadata": {
        "id": "Xs8-knSophTR"
      }
    },
    {
      "cell_type": "markdown",
      "source": [
        "# Declarando classes: Começando do começo"
      ],
      "metadata": {
        "id": "SnyqTfHeqHJs"
      }
    },
    {
      "cell_type": "code",
      "source": [
        "class Pessoa():\n",
        "  pass\n",
        "\t\t# Atributos e métodos da classe"
      ],
      "metadata": {
        "id": "fPkjagXLqJtd"
      },
      "execution_count": null,
      "outputs": []
    },
    {
      "cell_type": "markdown",
      "source": [
        "Como vimos acima, para declarar uma classe no Python, utilizamos a palavra reservada **class** seguido do nome desta classe.\n",
        "\n",
        "**No Python, todas as classes devem, por boas práticas, possuir nomes que comecem com letra maiúscula e, caso sejam compostos, a primeira letra de cada palavra deve ser maiúscula, o que chamamos de formato CamelCase:**"
      ],
      "metadata": {
        "id": "f0GlzrGoqOxy"
      }
    },
    {
      "cell_type": "code",
      "source": [
        "class PessoaFisica():\n",
        "  pass\n",
        "    # Atributos e métodos da classe"
      ],
      "metadata": {
        "id": "i7ik-jLPqT3p"
      },
      "execution_count": null,
      "outputs": []
    },
    {
      "cell_type": "markdown",
      "source": [
        "# Criando **construtor** da classe"
      ],
      "metadata": {
        "id": "43zJBu8EqbHu"
      }
    },
    {
      "cell_type": "markdown",
      "source": [
        "Uma classe é representada por **atributos e métodos**. Os atributos de uma classe representam as características que esta classe possui, já os métodos representam o comportamento da classe.\n",
        "\n",
        "Para declarar um atributo em uma classe no Python é bem simples, basta definir o nome do atributo no método especial chamado __init__, este método define o construtor da classe, ou seja, é onde definimos como uma nova pessoa será criada em nosso programa.\n",
        "\n",
        "Para definir os atributos de uma classe em seu construtor, basta passá-los como parâmetro, como podemos ver abaixo:"
      ],
      "metadata": {
        "id": "41aMMciIqhiz"
      }
    },
    {
      "cell_type": "code",
      "source": [
        "class Pessoa:\n",
        "    def __init__(self, nome, sexo, cpf):\n",
        "        self.nome = nome\n",
        "        self.sexo = sexo\n",
        "        self.cpf = cpf"
      ],
      "metadata": {
        "id": "qcA5a3syqnHq"
      },
      "execution_count": null,
      "outputs": []
    },
    {
      "cell_type": "markdown",
      "source": [
        "Agora, estamos indicando que toda pessoa que for criada em nosso programa e que utilize como base a classe Pessoa deverá possuir um nome, sexo e cpf."
      ],
      "metadata": {
        "id": "3_MbK4oiqq5v"
      }
    },
    {
      "cell_type": "markdown",
      "source": [
        "# Instanciando objetos"
      ],
      "metadata": {
        "id": "DQZp3zpqqwXy"
      }
    },
    {
      "cell_type": "markdown",
      "source": [
        "Como vimos anteriormente, as classes representam a estrutura de um elemento no mundo real, porém ela é apenas o modelo destes elementos.\n",
        "\n",
        "IMPORTANTE: **Sempre que precisamos criar “algo” com base em uma classe, dizemos que estamos “instanciando objetos”. O ato de instanciar um objeto significa que estamos criando a representação de uma classe em nosso programa.**\n",
        "\n",
        "Para instanciar um objeto no Python com base em uma classe previamente declarada, basta indicar a classe que desejamos utilizar como base e, caso possua, informar os valores referentes aos seus atributos, como podemos ver abaixo:\n",
        "\n"
      ],
      "metadata": {
        "id": "thH7lRlyq0SY"
      }
    },
    {
      "cell_type": "code",
      "source": [
        "class Pessoa:\n",
        "    def __init__(self, nome, sexo, cpf):\n",
        "        self.nome = nome\n",
        "        self.sexo = sexo\n",
        "        self.cpf = cpf\n",
        "\n",
        "if __name__ == \"__main__\":\n",
        "    pessoa1 = Pessoa(\"João\", \"M\", \"123456\")\n",
        "    print(pessoa1.nome)"
      ],
      "metadata": {
        "id": "ECdHM51Cq9w_"
      },
      "execution_count": null,
      "outputs": []
    },
    {
      "cell_type": "markdown",
      "source": [
        "# Declarando métodos\n"
      ],
      "metadata": {
        "id": "jNPOOeAfrLcv"
      }
    },
    {
      "cell_type": "markdown",
      "source": [
        "Como vimos anteriormente, uma classe possui atributos (que definem suas características) e métodos (que definem seus comportamentos).\n",
        "\n",
        "Imagine que possuímos um atributo ativo na classe Pessoa. Toda pessoa criada em nosso sistema é inicializado como ativo, porém, imagine que queremos alterar o valor deste atributo e, assim, “desativar” a pessoa em nosso sistema e, além disso, exibir uma mensagem de que a pessoa foi “desativada com sucesso”.\n",
        "\n",
        "Para isso, precisamos definir um comportamento para essa pessoa, assim, agora, ela poderá ser “desativada”.\n",
        "\n",
        "Sendo assim, precisamos definir um **método** chamado **“desativar”** para criar este comportamento na classe Pessoa, como podemos ver abaixo:"
      ],
      "metadata": {
        "id": "bVBeElZorQiS"
      }
    },
    {
      "cell_type": "code",
      "source": [
        "class Pessoa:\n",
        "    def __init__(self, nome, sexo, cpf, ativo):\n",
        "        self.nome = nome\n",
        "        self.sexo = sexo\n",
        "        self.cpf = cpf\n",
        "        self.ativo = ativo\n",
        "\n",
        "    def desativar(self):\n",
        "        self.ativo = False\n",
        "        print(\"A pessoa foi desativada com sucesso\")\n",
        "\n",
        "if __name__ == \"__main__\":\n",
        "    pessoa1 = Pessoa(\"João\", \"M\", \"123456\", True)\n",
        "    pessoa1.desativar()"
      ],
      "metadata": {
        "id": "z7r4DytGrNEk"
      },
      "execution_count": null,
      "outputs": []
    },
    {
      "cell_type": "markdown",
      "source": [
        "Para criarmos este “comportamento” na classe Pessoa, utilizamos a palavra reservada def, que indica que estamos criando um método da classe, além do nome do método e seus atributos, caso possuam.\n",
        "\n",
        "Depois disso, é só definir o comportamento que este método irá realizar. Neste caso, o método vai alterar o valor do atributo “ativo” para “False” e imprimir a mensagem “A pessoa foi desativada com sucesso”"
      ],
      "metadata": {
        "id": "mWgrLKt6rang"
      }
    },
    {
      "cell_type": "markdown",
      "source": [
        "# Declarando propriedades\n"
      ],
      "metadata": {
        "id": "N9SiG0r7rj4l"
      }
    },
    {
      "cell_type": "markdown",
      "source": [
        "Aparentemente o código acima funciona normalmente. Porém, temos um pequeno problema com o atributo “ativo”: ele é acessível para todo mundo. Ou seja, mesmo possuindo o método “desativar”, é possível alterar o valor do atributo “ativo” sem qualquer problema:"
      ],
      "metadata": {
        "id": "xbHL07ODrpzq"
      }
    },
    {
      "cell_type": "markdown",
      "source": [
        "![](https://dkrn4sk0rn31v.cloudfront.net/uploads/2021/02/Declarando-propriedades-em-Python.png)"
      ],
      "metadata": {
        "id": "plzLvhJTrutR"
      }
    },
    {
      "cell_type": "markdown",
      "source": [
        "Este comportamento do nosso programa dá brechas para que um usuário possa ser ativado ou desativado sem passar pelo método responsável por isso. Por isso, para corrigir este problema, devemos recorrer a um pilar importantíssimo da Orientação à Objetos: **o encapsulamento.**\n",
        "\n",
        "Basicamente, o encapsulamento visa definir o que pode ou não ser acessado de forma externa da classe.\n",
        "\n",
        "Existem três tipos de atributos de visibilidade nas linguagens orientadas a objetos, que são:\n",
        "\n",
        "- Public: Atributos e métodos definidos como públicos poderão ser invocados, acessados e modificados através de qualquer lugar do projeto;\n",
        "- Private: Atributos e métodos definidos como privados só poderão ser invocados, acessados e modificados somente por seu próprio objeto.\n",
        "- Protected: Atributos e métodos definidos como protegidos só poderão ser invocados, acessados e modificados por classes que herdam de outras classes através do conceito de Herança, visto na última aula. Sendo assim, apenas classes “filhas” poderão acessar métodos e atributos protegidos."
      ],
      "metadata": {
        "id": "liULzIeJr1iN"
      }
    },
    {
      "cell_type": "markdown",
      "source": [
        "Para definir um atributo público, não há necessidade de realizar nenhuma alteração, por padrão, todos os atributos e métodos criados no Python são definidos com este nível de visibilidade.\n",
        "\n",
        "**Já se precisarmos definir um atributo como privado, adicionamos dois underlines (__) antes do nome do atributo ou método:**"
      ],
      "metadata": {
        "id": "Tw7vz2l7r_z4"
      }
    },
    {
      "cell_type": "code",
      "source": [
        "class Pessoa:\n",
        "    def __init__(self, nome, sexo, cpf, ativo):\n",
        "        self.nome = nome\n",
        "        self.sexo = sexo\n",
        "        self.cpf = cpf\n",
        "        self.__ativo = ativo\n",
        "\n",
        "    def desativar(self):\n",
        "        self.__ativo = False\n",
        "        print(\"A pessoa foi desativada com sucesso\")\n",
        "\n",
        "if __name__ == \"__main__\":\n",
        "    pessoa1 = Pessoa(\"João\", \"M\", \"123456\", True)\n",
        "    pessoa1.desativar()\n",
        "    pessoa1.ativo = True\n",
        "    print(pessoa1.ativo)\n"
      ],
      "metadata": {
        "id": "q1XcChYesE6S"
      },
      "execution_count": null,
      "outputs": []
    },
    {
      "cell_type": "markdown",
      "source": [
        "Porém, isso é apenas uma “convenção” do Python, ou seja, mesmo definindo o atributo com visibilidade privada (utilizando dois underlines antes de seu nome), ele poderá ser acessado de fora da classe."
      ],
      "metadata": {
        "id": "mqk_cRJXsPFg"
      }
    },
    {
      "cell_type": "markdown",
      "source": [
        "Isso ocorre porquê estamos falando de “convenções”, ou seja, padrões que devem ser seguidos por desenvolvedores Python.\n",
        "\n",
        "Porém, caso precisemos acessar os atributos privados de uma classe, o Python oferece um mecanismo para construção de propriedades em uma classe e, dessa forma, melhorar a forma de encapsulamento dos atributos presentes. É comum que, quando queremos obter ou alterar os valores de um atributo, criamos métodos getters e setters para este atributo:"
      ],
      "metadata": {
        "id": "GfRTBEOysW1u"
      }
    },
    {
      "cell_type": "code",
      "source": [
        "class Pessoa:\n",
        "    def __init__(self, nome, sexo, cpf, ativo):\n",
        "        self.__nome = nome\n",
        "        self.__sexo = sexo\n",
        "        self.__cpf = cpf\n",
        "        self.__ativo = ativo\n",
        "\n",
        "    def desativar(self):\n",
        "        self.__ativo = False\n",
        "        print(\"A pessoa foi desativada com sucesso\")\n",
        "\n",
        "    def get_nome(self):\n",
        "        return self.__nome\n",
        "\n",
        "    def set_nome(self, nome):\n",
        "        self.__nome = nome\n",
        "\n",
        "if __name__ == \"__main__\":\n",
        "    pessoa1 = Pessoa(\"João\", \"M\", \"123456\", True)\n",
        "    pessoa1.desativar()\n",
        "    pessoa1.ativo = True\n",
        "    print(pessoa1.ativo)\n",
        "\n",
        "    # Utilizando geters e setters\n",
        "    pessoa1.set_nome(\"José\")\n",
        "    print(pessoa1.get_nome())"
      ],
      "metadata": {
        "id": "orNyYpSRsYXi"
      },
      "execution_count": null,
      "outputs": []
    },
    {
      "cell_type": "markdown",
      "source": [
        "Porém, ao tentar acessar o valor do atributo nome presente na classe, fica evidente que estamos obtendo esse dado através de um método. Pensando nisso, o time de desenvolvimento criou as Properties para prover um meio mais “elegante” para obter e enviar novos dados aos atributos de uma classe:"
      ],
      "metadata": {
        "id": "s-BmzKiysmUD"
      }
    },
    {
      "cell_type": "code",
      "source": [
        "class Pessoa:\n",
        "  def __init__(self, nome, sexo, cpf, ativo):\n",
        "        self.__nome = nome\n",
        "        self.__sexo = sexo\n",
        "        self.__cpf = cpf\n",
        "        self.__ativo = ativo\n",
        "\n",
        "  def desativar(self):\n",
        "        self.__ativo = False\n",
        "        print(\"A pessoa foi desativada com sucesso\")\n",
        "\n",
        "  def get_nome(self):\n",
        "        return self.__nome\n",
        "\n",
        "  def set_nome(self, nome):\n",
        "        self.__nome = nome\n",
        "\n",
        "  @property\n",
        "  def nome(self):\n",
        "        return self.__nome\n",
        "\n",
        "  @nome.setter\n",
        "  def nome(self, nome):\n",
        "        self.__nome = nome\n",
        "\n",
        "if __name__ == \"__main__\":\n",
        "    pessoa1 = Pessoa(\"João\", \"M\", \"123456\", True)\n",
        "    pessoa1.desativar()\n",
        "    pessoa1.ativo = True\n",
        "    print(pessoa1.ativo)\n",
        "\n",
        "\t\t# Utilizando geters e setters\n",
        "    pessoa1.set_nome(\"José\")\n",
        "    print(pessoa1.get_nome())\n",
        "\n",
        "    # Utilizando properties\n",
        "    pessoa1.nome = \"José\"\n",
        "    print(pessoa1.nome)"
      ],
      "metadata": {
        "id": "l5e6A-UfsoK9"
      },
      "execution_count": null,
      "outputs": []
    },
    {
      "cell_type": "markdown",
      "source": [
        "# Why do we use 'self'?"
      ],
      "metadata": {
        "id": "xRJtVxHmokj9"
      }
    },
    {
      "cell_type": "markdown",
      "source": [
        "O self em Python é uma referência ao objeto instanciado da classe. Ele é o primeiro parâmetro que passamos ao definir os métodos de uma classe e é usado para acessar variáveis e métodos associados ao objeto da classe.\n",
        "\n",
        "Por exemplo, digamos que você tem uma classe Carro e quer criar um método para definir a cor do carro. O código seria algo assim:"
      ],
      "metadata": {
        "id": "vqVcl9w0oqUT"
      }
    },
    {
      "cell_type": "code",
      "source": [
        "class Carro:\n",
        "    def __init__(self, marca, modelo):\n",
        "        self.marca = marca\n",
        "        self.modelo = modelo\n",
        "\n",
        "    def definir_cor(self, cor):\n",
        "        self.cor = cor"
      ],
      "metadata": {
        "id": "4PcWDlc8ou2T"
      },
      "execution_count": null,
      "outputs": []
    },
    {
      "cell_type": "markdown",
      "source": [
        "Nesse exemplo, self é usado para se referir ao objeto específico de Carro que está chamando o método definir_cor. Quando você cria um objeto de Carro e chama definir_cor, o self permite que você modifique a cor daquele objeto específico, e não de todos os objetos de Carro.\n",
        "\n",
        "Em suma, self é usado para distinguir entre métodos e atributos de instância de uma classe (aqueles que pertencem a um objeto específico) e métodos e atributos de classe (aqueles que pertencem à classe em geral)."
      ],
      "metadata": {
        "id": "8_blyF38oztW"
      }
    },
    {
      "cell_type": "markdown",
      "source": [
        "# Examples"
      ],
      "metadata": {
        "id": "IDCf6kb5o2c1"
      }
    },
    {
      "cell_type": "code",
      "execution_count": null,
      "metadata": {
        "id": "Pds0saf5nQpv"
      },
      "outputs": [],
      "source": [
        "# Definindo a classe Carro\n",
        "\n",
        "class Carro:\n",
        "    def __init__(self, marca, modelo):  # Método construtor\n",
        "        self.marca = marca\n",
        "        self.modelo = modelo\n",
        "\n",
        "meu_carro = Carro('Toyota', 'Corolla')  # Instanciando um objeto da classe Carro\n",
        "print(meu_carro.marca)  # Saída: Toyota\n",
        "print(meu_carro.modelo)  # Saída: Corolla"
      ]
    },
    {
      "cell_type": "code",
      "source": [
        "# 2. Herança e Polimorfismo:\n",
        "\n",
        "\n",
        "class Veiculo:\n",
        "    def __init__(self, marca, modelo):\n",
        "        self.marca = marca\n",
        "        self.modelo = modelo\n",
        "\n",
        "class Carro(Veiculo):  # Carro herda de Veiculo\n",
        "    def buzinar(self):\n",
        "        return 'BEEP!'\n",
        "\n",
        "class Bicicleta(Veiculo):  # Bicicleta herda de Veiculo\n",
        "    def buzinar(self):\n",
        "        return 'Bling Bling!'\n",
        "\n",
        "meu_carro = Carro('Toyota', 'Corolla')\n",
        "minha_bike = Bicicleta('Giant', 'Escape 3')\n",
        "\n",
        "print(meu_carro.buzinar())  # Saída: BEEP!\n",
        "print(minha_bike.buzinar())  # Saída: Bling Bling!"
      ],
      "metadata": {
        "id": "ZOhPCvzUnb04"
      },
      "execution_count": null,
      "outputs": []
    },
    {
      "cell_type": "code",
      "source": [
        "# 3. Encapsulamento:\n",
        "\n",
        "class ContaBancaria:\n",
        "    def __init__(self, titular, saldo=0):\n",
        "        self.__titular = titular  # atributo privado\n",
        "        self.__saldo = saldo  # atributo privado\n",
        "\n",
        "    def depositar(self, valor):\n",
        "        self.__saldo += valor\n",
        "\n",
        "    def sacar(self, valor):\n",
        "        if valor <= self.__saldo:\n",
        "            self.__saldo -= valor\n",
        "        else:\n",
        "            print(\"Saldo insuficiente\")\n",
        "\n",
        "    def get_saldo(self):  # getter para saldo\n",
        "        return self.__saldo\n",
        "\n",
        "conta = ContaBancaria('João', 100)\n",
        "conta.depositar(50)\n",
        "print(conta.get_saldo())  # Saída: 150"
      ],
      "metadata": {
        "id": "fCDMMBkEnfJh"
      },
      "execution_count": null,
      "outputs": []
    },
    {
      "cell_type": "markdown",
      "source": [
        "# Vamos praticar um pouco de Python & OOP"
      ],
      "metadata": {
        "id": "ATPSn9yzuiyf"
      }
    },
    {
      "cell_type": "markdown",
      "source": [
        "## Vamos tentar criar essas execuções simples com OOP?"
      ],
      "metadata": {
        "id": "WoXFoXDGvDvE"
      }
    },
    {
      "cell_type": "markdown",
      "source": [
        "## Crie uma classe Carro:\n",
        "\n",
        "- Adicione atributos como modelo, cor, ano, e preço.\n",
        "- Implemente métodos para exibir informações do carro e calcular o preço com desconto.\n",
        "\n",
        "## Desenvolva uma classe ContaBancaria:\n",
        "\n",
        "- Inclua atributos como número da conta, titular e saldo.\n",
        "- Forneça métodos para depositar, sacar e exibir o saldo.\n",
        "\n",
        "## Herança com animais:\n",
        "\n",
        "- Crie uma classe base Animal com atributos como nome e idade.\n",
        "- Derive classes específicas como Cachorro e Gato.\n",
        "- Adicione métodos que são específicos para cada tipo de animal.\n",
        "\n",
        "## Encapsulamento:\n",
        "\n",
        "- Crie uma classe Pessoa com atributos como nome, idade e número de telefone.\n",
        "- Encapsule os atributos usando métodos getters e setters.\n",
        "\n",
        "## Polimorfismo:\n",
        "\n",
        "- Crie uma interface FormaGeometrica com métodos como calcularArea e calcularPerimetro.\n",
        "- Implemente classes como Circulo, Quadrado e Triangulo que implementam essa interface.\n",
        "\n",
        "## Relacionamento entre classes:\n",
        "\n",
        "- Crie uma classe Estudante e uma classe Curso.\n",
        "- Estabeleça um relacionamento onde um curso pode ter vários estudantes.\n",
        "\n",
        "## Sistema de biblioteca:\n",
        "\n",
        "- Crie classes para representar Livro, Autor e Biblioteca.\n",
        "- Relacione essas classes para que seja possível saber quais autores escreveram quais livros, e quantos exemplares a biblioteca possui.\n",
        "\n",
        "## Sistema de funcionários:\n",
        "\n",
        "- Crie classes para representar Empregado, Gerente e CEO.\n",
        "- Use herança para representar a relação entre essas classes."
      ],
      "metadata": {
        "id": "5PP4FJ6punxc"
      }
    }
  ]
}